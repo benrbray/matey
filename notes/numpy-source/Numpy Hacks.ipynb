{
 "cells": [
  {
   "cell_type": "markdown",
   "metadata": {},
   "source": [
    "# `numpy` Hacks "
   ]
  },
  {
   "cell_type": "markdown",
   "metadata": {},
   "source": [
    "## Dummy Module"
   ]
  },
  {
   "cell_type": "markdown",
   "metadata": {},
   "source": [
    "## Default String Printing"
   ]
  },
  {
   "cell_type": "code",
   "execution_count": 8,
   "metadata": {
    "collapsed": false
   },
   "outputs": [
    {
     "name": "stdout",
     "output_type": "stream",
     "text": [
      "[[-10. -10.  21.  -9.   5.]\n",
      " [ -9.  -4.  23.   6.   7.]\n",
      " [  2.  16.  -8.   5.   2.]\n",
      " [  8. -16.   3.  -3.  16.]\n",
      " [ -1. -10. -13.   1.  17.]]\n",
      "[[-10. -10.  21.  -9.   5.]\n",
      " [ -9.  -4.  23.   6.   7.]\n",
      " [  2.  16.  -8.   5.   2.]\n",
      " [  8. -16.   3.  -3.  16.]\n",
      " [ -1. -10. -13.   1.  17.]]\n"
     ]
    }
   ],
   "source": [
    "%%bash\n",
    "python\n",
    "import numpy as np\n",
    "A = np.round(np.random.randn(5,5)*10);\n",
    "print(str(A))\n",
    "np.set_string_function(None)\n",
    "print(str(A))"
   ]
  },
  {
   "cell_type": "code",
   "execution_count": 18,
   "metadata": {
    "collapsed": false
   },
   "outputs": [
    {
     "name": "stdout",
     "output_type": "stream",
     "text": [
      "<function A.method at 0x7f9ba4a22730>\n",
      "<bound method A.method of <__main__.A object at 0x7f9ba668dd30>>\n",
      "<stdin>\n"
     ]
    }
   ],
   "source": [
    "%%bash\n",
    "python\n",
    "\n",
    "import inspect;\n",
    "\n",
    "class A(object):\n",
    "    def __init__(self):\n",
    "        pass;\n",
    "    def method(self):\n",
    "        pass;\n",
    "\n",
    "print(A.method)\n",
    "print(A().method)\n",
    "\n",
    "print(inspect.getsourcefile(A.method))"
   ]
  },
  {
   "cell_type": "code",
   "execution_count": null,
   "metadata": {
    "collapsed": true
   },
   "outputs": [],
   "source": []
  }
 ],
 "metadata": {
  "kernelspec": {
   "display_name": "Python [default]",
   "language": "python",
   "name": "python3"
  },
  "language_info": {
   "codemirror_mode": {
    "name": "ipython",
    "version": 3
   },
   "file_extension": ".py",
   "mimetype": "text/x-python",
   "name": "python",
   "nbconvert_exporter": "python",
   "pygments_lexer": "ipython3",
   "version": "3.5.2"
  }
 },
 "nbformat": 4,
 "nbformat_minor": 2
}
