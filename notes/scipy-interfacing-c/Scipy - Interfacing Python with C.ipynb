{
 "cells": [
  {
   "cell_type": "code",
   "execution_count": 1,
   "metadata": {
    "collapsed": true
   },
   "outputs": [],
   "source": [
    "from IPython.display import display, Markdown;"
   ]
  },
  {
   "cell_type": "code",
   "execution_count": 2,
   "metadata": {
    "collapsed": true
   },
   "outputs": [],
   "source": [
    "def print_code(path, lang=\"\"):\n",
    "    with open(path) as f:\n",
    "        return Markdown(\"```%s\\n%s```\" % (lang,f.read()));"
   ]
  },
  {
   "cell_type": "markdown",
   "metadata": {},
   "source": [
    "# Notes: Interfacing with C"
   ]
  },
  {
   "cell_type": "markdown",
   "metadata": {},
   "source": [
    "*Taken from [Scipy:  Interfacing with C](http://www.scipy-lectures.org/advanced/interfacing_with_c/interfacing_with_c.html)*."
   ]
  },
  {
   "cell_type": "markdown",
   "metadata": {},
   "source": [
    "## Python-C-API\n",
    "\n",
    "The **Python-C-API** is the backbone of the standard Python interpreter.  Using this module it is possible to write Python extension modules in C and C++.  Using this module often requires significant boilerplate code to convert between datatypes.\n",
    "\n",
    "> Using the Python-C-API is not recommended in practice, but it is useful to understand because other methods rely on the concepts in this section.\n",
    "\n",
    "**Advantages**\n",
    "- Requires no additional libraries\n",
    "- Lots of low-level control\n",
    "- Entirely usable from C++\n",
    "\n",
    "**Disadvantages**\n",
    "- May require a substantial amount of effort\n",
    "- Significant overhead\n",
    "- Must be compiled\n",
    "- High maintenance cost\n",
    "- No forward compatibility across Python versions as C-API changes\n",
    "- Reference count bugs are easy to create and hard to find"
   ]
  },
  {
   "cell_type": "markdown",
   "metadata": {},
   "source": [
    "### C-extension module\n",
    "\n",
    "We will create an extension module based on the following C code, which simply wraps the `cos` method from `math.h`."
   ]
  },
  {
   "cell_type": "code",
   "execution_count": 3,
   "metadata": {
    "collapsed": false,
    "scrolled": true
   },
   "outputs": [
    {
     "data": {
      "text/markdown": [
       "```c\n",
       "/*  Example of wrapping cos function from math.h with the Python-C-API. */\n",
       "\n",
       "#include <Python.h>\n",
       "#include <math.h>\n",
       "\n",
       "/*  wrapped cosine function */\n",
       "static PyObject* cos_func(PyObject* self, PyObject* args) {\n",
       "    double value;\n",
       "    double answer;\n",
       "\n",
       "    /*  parse the input, from python float to c double */\n",
       "    if (!PyArg_ParseTuple(args, \"d\", &value))\n",
       "        return NULL;\n",
       "    /* if the above function returns -1, an appropriate Python exception will\n",
       "     * have been set, and the function simply returns NULL\n",
       "     */\n",
       "\n",
       "    /* call cos from libm */\n",
       "    answer = cos(value);\n",
       "\n",
       "    /*  construct the output from cos, from c double to python float */\n",
       "    return Py_BuildValue(\"f\", answer);\n",
       "}\n",
       "\n",
       "/*  define functions in module */\n",
       "static PyMethodDef CosMethods[] = {\n",
       "     {\"cos_func\", cos_func, METH_VARARGS, \"evaluate the cosine\"},\n",
       "     {NULL, NULL, 0, NULL}\n",
       "};\n",
       "\n",
       "/* module initialization */\n",
       "PyMODINIT_FUNC initcos_module(void) {\n",
       "     (void) Py_InitModule(\"cos_module\", CosMethods);\n",
       "}\n",
       "```"
      ],
      "text/plain": [
       "<IPython.core.display.Markdown object>"
      ]
     },
     "execution_count": 3,
     "metadata": {},
     "output_type": "execute_result"
    }
   ],
   "source": [
    "print_code(\"python-c-api/cos_module.c\", \"c\")"
   ]
  },
  {
   "cell_type": "markdown",
   "metadata": {},
   "source": [
    "### Compiling the Extension"
   ]
  },
  {
   "cell_type": "markdown",
   "metadata": {},
   "source": [
    "The following `setup.py` file uses `distutils` to compile the C extension."
   ]
  },
  {
   "cell_type": "code",
   "execution_count": 4,
   "metadata": {
    "collapsed": false
   },
   "outputs": [
    {
     "data": {
      "text/markdown": [
       "```python\n",
       "from distutils.core import setup, Extension;\n",
       "\n",
       "# define the extension module\n",
       "cos_module = Extension('cos_module', sources=['cos_module.c']);\n",
       "# run setup\n",
       "setup(ext_modules=[cos_module]);\n",
       "```"
      ],
      "text/plain": [
       "<IPython.core.display.Markdown object>"
      ]
     },
     "execution_count": 4,
     "metadata": {},
     "output_type": "execute_result"
    }
   ],
   "source": [
    "print_code(\"python-c-api/setup.py\", \"python\")"
   ]
  },
  {
   "cell_type": "markdown",
   "metadata": {},
   "source": [
    "We now call `setup.py` with the following options:\n",
    "- `build_ext` builds extension modules\n",
    "- `--inplace` will output the compiled extension module into the current directory"
   ]
  },
  {
   "cell_type": "code",
   "execution_count": 12,
   "metadata": {
    "collapsed": false
   },
   "outputs": [
    {
     "name": "stdout",
     "output_type": "stream",
     "text": [
      "running build_ext\n"
     ]
    }
   ],
   "source": [
    "%%bash\n",
    "cd python-c-api\n",
    "python setup.py build_ext --inplace"
   ]
  },
  {
   "cell_type": "markdown",
   "metadata": {},
   "source": [
    "Now we see that a new `.so` file has been created:"
   ]
  },
  {
   "cell_type": "code",
   "execution_count": 15,
   "metadata": {
    "collapsed": false
   },
   "outputs": [
    {
     "name": "stdout",
     "output_type": "stream",
     "text": [
      "build\n",
      "python-c-api\n",
      "Scipy - Interfacing Python with C.ipynb\n"
     ]
    }
   ],
   "source": [
    "%%bash\n",
    "ls"
   ]
  },
  {
   "cell_type": "markdown",
   "metadata": {},
   "source": [
    "### Importing the Extension"
   ]
  },
  {
   "cell_type": "code",
   "execution_count": 17,
   "metadata": {
    "collapsed": false
   },
   "outputs": [
    {
     "ename": "SyntaxError",
     "evalue": "invalid syntax (<ipython-input-17-1f8a4809caec>, line 1)",
     "output_type": "error",
     "traceback": [
      "\u001b[1;36m  File \u001b[1;32m\"<ipython-input-17-1f8a4809caec>\"\u001b[1;36m, line \u001b[1;32m1\u001b[0m\n\u001b[1;33m    import cos_module.cpython-35m-x86_64-linux-gnu as cos_module\u001b[0m\n\u001b[1;37m                             ^\u001b[0m\n\u001b[1;31mSyntaxError\u001b[0m\u001b[1;31m:\u001b[0m invalid syntax\n"
     ]
    }
   ],
   "source": [
    "import cos_module.cpython-35m-x86_64-linux-gnu as cos_module"
   ]
  },
  {
   "cell_type": "code",
   "execution_count": null,
   "metadata": {
    "collapsed": true
   },
   "outputs": [],
   "source": []
  },
  {
   "cell_type": "code",
   "execution_count": null,
   "metadata": {
    "collapsed": true
   },
   "outputs": [],
   "source": []
  }
 ],
 "metadata": {
  "kernelspec": {
   "display_name": "Python 3",
   "language": "python",
   "name": "python3"
  },
  "language_info": {
   "codemirror_mode": {
    "name": "ipython",
    "version": 3
   },
   "file_extension": ".py",
   "mimetype": "text/x-python",
   "name": "python",
   "nbconvert_exporter": "python",
   "pygments_lexer": "ipython3",
   "version": "3.5.1"
  }
 },
 "nbformat": 4,
 "nbformat_minor": 0
}
